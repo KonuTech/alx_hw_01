{
 "cells": [
  {
   "cell_type": "code",
   "execution_count": 1,
   "id": "7e084456",
   "metadata": {},
   "outputs": [],
   "source": [
    "import math\n",
    "from typing import Union\n",
    "import logging"
   ]
  },
  {
   "cell_type": "code",
   "execution_count": 2,
   "id": "af88a121",
   "metadata": {},
   "outputs": [],
   "source": [
    "logging.basicConfig(level=logging.INFO)"
   ]
  },
  {
   "cell_type": "code",
   "execution_count": 3,
   "id": "5f891635",
   "metadata": {},
   "outputs": [
    {
     "name": "stdout",
     "output_type": "stream",
     "text": [
      "Overwriting circle.py\n"
     ]
    }
   ],
   "source": [
    "%%writefile circle.py\n",
    "\n",
    "import math\n",
    "from typing import Union\n",
    "import logging\n",
    "\n",
    "class Circle:\n",
    "    \"\"\"\n",
    "    This class represents a circle with attributes like radius, diameter, and area.\n",
    "    \"\"\"\n",
    "    def __init__(self, radius: float = 1.0) -> None:\n",
    "        \"\"\"\n",
    "        Initialize Circle with default radius of 1.0 if not provided.\n",
    "        Calculate diameter and area based on the given radius.\n",
    "        \"\"\"\n",
    "        self._radius: float = radius\n",
    "        self._diameter: float = radius * 2\n",
    "        self._area: float = math.pi * (radius ** 2)\n",
    "        \n",
    "        logging.info(f\"Circle inialized with radius: {self._radius}\")\n",
    "    \n",
    "    def __str__(self) -> str:\n",
    "        \"\"\"\n",
    "        Printing current radius.\n",
    "        \"\"\"\n",
    "        return f\"\"\"\n",
    "        Circle properties:\n",
    "        radius: {self._radius}\n",
    "        diameter: {self._diameter}\n",
    "        area: {self._area}\n",
    "        \"\"\"\n",
    "    \n",
    "    def __eq__(self, other):\n",
    "        \"\"\"\n",
    "        Check if two Circle instances are equal based on their radii.\n",
    "        \"\"\"\n",
    "        if isinstance(other, Circle):\n",
    "            return self.radius == other.radius\n",
    "        return NotImplemented\n",
    "    \n",
    "    def __ne__(self, other):\n",
    "        \"\"\"\n",
    "        Check if two Circle instances are not equal based on their radii.\n",
    "        \"\"\"\n",
    "        if isinstance(other, Circle):\n",
    "            return self.radius != other.radius\n",
    "        return NotImplemented\n",
    "    \n",
    "    def __lt__(self, other):\n",
    "        \"\"\"\n",
    "        Check if the radius of the current Circle instance is less than the radius of another Circle instance.\n",
    "        \"\"\"\n",
    "        if isinstance(other, Circle):\n",
    "            return self.radius < other.radius\n",
    "        return NotImplemented\n",
    "\n",
    "    def __le__(self, other):\n",
    "        \"\"\"\n",
    "        Check if the radius of the current Circle instance is less than or equal to the radius of another Circle instance.\n",
    "        \"\"\"\n",
    "        if isinstance(other, Circle):\n",
    "            return self.radius <= other.radius\n",
    "        return NotImplemented    \n",
    "\n",
    "    def __gt__(self, other):\n",
    "        \"\"\"\n",
    "        Check if the radius of the current Circle instance is greater than the radius of another Circle instance,\n",
    "        or if the area of the current Circle instance is greater than the area of another Circle instance.\n",
    "        \"\"\"\n",
    "        if isinstance(other, Circle):\n",
    "            return (self.radius > other.radius) or (self.area > other.area)\n",
    "        return NotImplemented\n",
    "\n",
    "    def __ge__(self, other):\n",
    "        \"\"\"\n",
    "        Check if the radius of the current Circle instance is less than the radius of another Circle instance.\n",
    "        \"\"\"\n",
    "        if isinstance(other, Circle):\n",
    "            return self.radius >= other.radius\n",
    "        return NotImplemented\n",
    "    \n",
    "    def __add__(self, other):\n",
    "        \"\"\"\n",
    "        Add two Circle instances to create a new Circle with a radius calculated based on the sum of their areas.\n",
    "        \"\"\"\n",
    "        if isinstance(other, Circle):\n",
    "            return Circle(math.sqrt((self.radius ** 2) + (other.radius ** 2)))\n",
    "        return NotImplemented\n",
    "    \n",
    "    def __add__(self, other):\n",
    "        \"\"\"\n",
    "        Enable addition between Circle and Square instances.\n",
    "        \"\"\"\n",
    "        if isinstance(other, Circle):\n",
    "            combined_area = self.area + other.area\n",
    "            combined_radius = math.sqrt(combined_area / math.pi)\n",
    "            return Circle(combined_radius)\n",
    "        elif isinstance(other, Square):\n",
    "            return Square(math.sqrt(self.area + other.area))\n",
    "        else:\n",
    "            raise TypeError(\"Objects must be instances of Circle or Square\")\n",
    "    \n",
    "    @property\n",
    "    def radius(self) -> float:\n",
    "        \"\"\"\n",
    "        Get the radius of the circle.\n",
    "        \"\"\"\n",
    "        return self._radius\n",
    "    \n",
    "    @radius.setter\n",
    "    def radius(self, new_radius: float) -> None:\n",
    "        \"\"\"\n",
    "        Set the radius of the circle.\n",
    "        Calculate diameter and area based on the new radius.\n",
    "        \"\"\"\n",
    "        if new_radius < 0:\n",
    "            raise ValueError(\"Radius cannot be negative\")\n",
    "        self._radius = new_radius\n",
    "        self._diameter = new_radius * 2\n",
    "        self._area = math.pi * (new_radius ** 2)\n",
    "        logging.info(f\"Radius set to: {self._radius}\")\n",
    "    \n",
    "    @property\n",
    "    def diameter(self) -> float:\n",
    "        \"\"\"\n",
    "        Get the diameter of the circle.\n",
    "        \"\"\"\n",
    "        return self._diameter\n",
    "    \n",
    "    @diameter.setter\n",
    "    def diameter(self, new_diameter: float) -> None:\n",
    "        \"\"\"\n",
    "        Set the diameter of the circle.\n",
    "        Calculater radius and area based on the new diamter.\n",
    "        \"\"\"\n",
    "        if new_diameter < 0:\n",
    "            raise ValueError(\"Diameter cannot be negative\")\n",
    "        self._diameter = new_diameter\n",
    "        self._radius = new_diameter / 2\n",
    "        self._area = math.pi * ((new_diameter / 2) ** 2)\n",
    "        logging.info(f\"Diameter set to: {self._diameter}\")\n",
    "    \n",
    "    @property\n",
    "    def area(self) -> float:\n",
    "        \"\"\"\n",
    "        Get the area of the circle.\n",
    "        \"\"\"\n",
    "        return round(self._area, 2)\n",
    "    \n",
    "    @area.setter\n",
    "    def area(self, new_area: float) -> None:\n",
    "        \"\"\"\n",
    "        Set the area of the circle.\n",
    "        Calculate radius and diameter based on the new area.\n",
    "        \"\"\"\n",
    "        if new_area < 0:\n",
    "            raise ValueError(\"Area cannot be negative\")\n",
    "        self._area = new_area\n",
    "        self._radius = math.sqrt(new_area / math.pi)\n",
    "        self._diameter = self._radius * 2\n",
    "        logging.info(f\"Area set to: {self._area}\")\n"
   ]
  },
  {
   "cell_type": "code",
   "execution_count": 5,
   "id": "1d18c6c1",
   "metadata": {},
   "outputs": [],
   "source": [
    "from circle import Circle"
   ]
  },
  {
   "cell_type": "code",
   "execution_count": 6,
   "id": "53ca3e88",
   "metadata": {},
   "outputs": [
    {
     "name": "stderr",
     "output_type": "stream",
     "text": [
      "INFO:root:Circle inialized with radius: 1.0\n"
     ]
    }
   ],
   "source": [
    "c = Circle()"
   ]
  },
  {
   "cell_type": "code",
   "execution_count": 7,
   "id": "d599e33e",
   "metadata": {},
   "outputs": [
    {
     "data": {
      "text/plain": [
       "'\\n        Circle properties:\\n        radius: 1.0\\n        diameter: 2.0\\n        area: 3.141592653589793\\n        '"
      ]
     },
     "execution_count": 7,
     "metadata": {},
     "output_type": "execute_result"
    }
   ],
   "source": [
    "str(c)"
   ]
  },
  {
   "cell_type": "code",
   "execution_count": 8,
   "id": "18bbafc6",
   "metadata": {},
   "outputs": [
    {
     "name": "stdout",
     "output_type": "stream",
     "text": [
      "\n",
      "        Circle properties:\n",
      "        radius: 1.0\n",
      "        diameter: 2.0\n",
      "        area: 3.141592653589793\n",
      "        \n"
     ]
    }
   ],
   "source": [
    "print(c)"
   ]
  },
  {
   "cell_type": "code",
   "execution_count": 9,
   "id": "5d0f1573",
   "metadata": {},
   "outputs": [
    {
     "data": {
      "text/plain": [
       "(1.0, 2.0, 3.14)"
      ]
     },
     "execution_count": 9,
     "metadata": {},
     "output_type": "execute_result"
    }
   ],
   "source": [
    "c.radius, c.diameter, c.area"
   ]
  },
  {
   "cell_type": "code",
   "execution_count": 10,
   "id": "09cab750",
   "metadata": {},
   "outputs": [
    {
     "name": "stderr",
     "output_type": "stream",
     "text": [
      "INFO:root:Circle inialized with radius: 2\n"
     ]
    }
   ],
   "source": [
    "c = Circle(2)"
   ]
  },
  {
   "cell_type": "code",
   "execution_count": 11,
   "id": "26bdca6b",
   "metadata": {},
   "outputs": [
    {
     "name": "stdout",
     "output_type": "stream",
     "text": [
      "\n",
      "        Circle properties:\n",
      "        radius: 2\n",
      "        diameter: 4\n",
      "        area: 12.566370614359172\n",
      "        \n"
     ]
    }
   ],
   "source": [
    "print(c)"
   ]
  },
  {
   "cell_type": "code",
   "execution_count": 12,
   "id": "369730b6",
   "metadata": {},
   "outputs": [
    {
     "data": {
      "text/plain": [
       "(2, 4, 12.57)"
      ]
     },
     "execution_count": 12,
     "metadata": {},
     "output_type": "execute_result"
    }
   ],
   "source": [
    "c.radius, c.diameter, c.area"
   ]
  },
  {
   "cell_type": "code",
   "execution_count": 13,
   "id": "e4a7869b",
   "metadata": {},
   "outputs": [
    {
     "name": "stdout",
     "output_type": "stream",
     "text": [
      "Variable   Type            Data/Info\n",
      "------------------------------------\n",
      "Circle     type            <class 'circle.Circle'>\n",
      "Union      _SpecialForm    typing.Union\n",
      "c          Circle          \\n        Circle properti<...>566370614359172\\n        \n",
      "logging    module          <module 'logging' from 'c<...>b\\\\logging\\\\__init__.py'>\n",
      "math       module          <module 'math' (built-in)>\n"
     ]
    }
   ],
   "source": [
    "%whos"
   ]
  },
  {
   "cell_type": "markdown",
   "id": "268d6f62",
   "metadata": {},
   "source": [
    "### Ex. 1"
   ]
  },
  {
   "cell_type": "code",
   "execution_count": 14,
   "id": "e3a14b3f",
   "metadata": {},
   "outputs": [],
   "source": [
    "??Circle"
   ]
  },
  {
   "cell_type": "code",
   "execution_count": 15,
   "id": "2e21947b",
   "metadata": {},
   "outputs": [
    {
     "name": "stderr",
     "output_type": "stream",
     "text": [
      "INFO:root:Circle inialized with radius: 5.0\n"
     ]
    },
    {
     "name": "stdout",
     "output_type": "stream",
     "text": [
      "\n",
      "        Circle properties:\n",
      "        radius: 5.0\n",
      "        diameter: 10.0\n",
      "        area: 78.53981633974483\n",
      "        \n",
      "5.0\n",
      "10.0\n",
      "78.54\n"
     ]
    }
   ],
   "source": [
    "# Examples of usage:\n",
    "c = Circle(5.0)\n",
    "print(c)\n",
    "print(c.radius)\n",
    "print(c.diameter)\n",
    "print(c.area)"
   ]
  },
  {
   "cell_type": "code",
   "execution_count": 16,
   "id": "80d268b8",
   "metadata": {},
   "outputs": [
    {
     "name": "stderr",
     "output_type": "stream",
     "text": [
      "INFO:root:Circle inialized with radius: 1.0\n"
     ]
    },
    {
     "name": "stdout",
     "output_type": "stream",
     "text": [
      "1.0\n",
      "2.0\n"
     ]
    }
   ],
   "source": [
    "c = Circle()\n",
    "print(c.radius)\n",
    "print(c.diameter)"
   ]
  },
  {
   "cell_type": "code",
   "execution_count": 17,
   "id": "ec58449a",
   "metadata": {},
   "outputs": [
    {
     "name": "stderr",
     "output_type": "stream",
     "text": [
      "INFO:root:Circle inialized with radius: 2.0\n",
      "INFO:root:Radius set to: 1.0\n"
     ]
    },
    {
     "name": "stdout",
     "output_type": "stream",
     "text": [
      "2.0\n",
      "3.14\n"
     ]
    }
   ],
   "source": [
    "c = Circle(2.0)\n",
    "c.radius = 1.0\n",
    "print(c.diameter)\n",
    "print(c.area)"
   ]
  },
  {
   "cell_type": "code",
   "execution_count": 18,
   "id": "1bb55e51",
   "metadata": {},
   "outputs": [
    {
     "name": "stderr",
     "output_type": "stream",
     "text": [
      "INFO:root:Circle inialized with radius: 1.0\n",
      "INFO:root:Diameter set to: 4.0\n"
     ]
    },
    {
     "name": "stdout",
     "output_type": "stream",
     "text": [
      "2.0\n"
     ]
    }
   ],
   "source": [
    "c = Circle(1.0)\n",
    "c.diameter = 4.0\n",
    "print(c.radius)"
   ]
  },
  {
   "cell_type": "code",
   "execution_count": 39,
   "id": "59f951e6",
   "metadata": {},
   "outputs": [
    {
     "name": "stderr",
     "output_type": "stream",
     "text": [
      "INFO:root:Circle inialized with radius: 1.0\n",
      "INFO:root:Area set to: 78.53981633974483\n"
     ]
    },
    {
     "name": "stdout",
     "output_type": "stream",
     "text": [
      "5.0\n"
     ]
    }
   ],
   "source": [
    "c = Circle(1.0)\n",
    "c.area = math.pi * 5 ** 2\n",
    "print(c.radius)"
   ]
  },
  {
   "cell_type": "code",
   "execution_count": 20,
   "id": "fe94645c",
   "metadata": {},
   "outputs": [
    {
     "name": "stderr",
     "output_type": "stream",
     "text": [
      "INFO:root:Circle inialized with radius: 5.0\n"
     ]
    },
    {
     "name": "stdout",
     "output_type": "stream",
     "text": [
      "Radius cannot be negative\n"
     ]
    }
   ],
   "source": [
    "c = Circle(5.0)\n",
    "try:\n",
    "    c.radius = -2.0\n",
    "except ValueError as e:\n",
    "    print(e)"
   ]
  },
  {
   "cell_type": "markdown",
   "id": "b0344cc5",
   "metadata": {},
   "source": [
    "### Ex. 2"
   ]
  },
  {
   "cell_type": "code",
   "execution_count": 21,
   "id": "18abdcfb",
   "metadata": {},
   "outputs": [
    {
     "name": "stderr",
     "output_type": "stream",
     "text": [
      "INFO:root:Circle inialized with radius: 1.0\n",
      "INFO:root:Circle inialized with radius: 2\n"
     ]
    }
   ],
   "source": [
    "c1 = Circle()\n",
    "c2 = Circle(2)"
   ]
  },
  {
   "cell_type": "code",
   "execution_count": 22,
   "id": "41883b4e",
   "metadata": {},
   "outputs": [
    {
     "name": "stdout",
     "output_type": "stream",
     "text": [
      "False\n"
     ]
    }
   ],
   "source": [
    "print(c1 == c2)  # False"
   ]
  },
  {
   "cell_type": "code",
   "execution_count": 23,
   "id": "28231000",
   "metadata": {},
   "outputs": [
    {
     "name": "stdout",
     "output_type": "stream",
     "text": [
      "True\n"
     ]
    }
   ],
   "source": [
    "print(c1 != c2)  # True"
   ]
  },
  {
   "cell_type": "code",
   "execution_count": 24,
   "id": "790c4a0d",
   "metadata": {},
   "outputs": [
    {
     "name": "stdout",
     "output_type": "stream",
     "text": [
      "False\n"
     ]
    }
   ],
   "source": [
    "print(c1 > c2)   # False"
   ]
  },
  {
   "cell_type": "code",
   "execution_count": 25,
   "id": "9b705df6",
   "metadata": {},
   "outputs": [
    {
     "name": "stdout",
     "output_type": "stream",
     "text": [
      "True\n"
     ]
    }
   ],
   "source": [
    "print(c1 <= c2)  # True"
   ]
  },
  {
   "cell_type": "code",
   "execution_count": 26,
   "id": "df9d1a7f",
   "metadata": {},
   "outputs": [
    {
     "name": "stderr",
     "output_type": "stream",
     "text": [
      "INFO:root:Circle inialized with radius: 2.236212939759394\n"
     ]
    },
    {
     "name": "stdout",
     "output_type": "stream",
     "text": [
      "\n",
      "        Circle properties:\n",
      "        radius: 2.236212939759394\n",
      "        diameter: 4.472425879518788\n",
      "        area: 15.709999999999997\n",
      "        \n"
     ]
    }
   ],
   "source": [
    "c3 = c1 + c2\n",
    "print(c3)  # Circle(2.23606797749979)"
   ]
  },
  {
   "cell_type": "markdown",
   "id": "bcb68c22",
   "metadata": {},
   "source": [
    "### Ex. 3"
   ]
  },
  {
   "cell_type": "code",
   "execution_count": 27,
   "id": "b043954e",
   "metadata": {},
   "outputs": [
    {
     "name": "stdout",
     "output_type": "stream",
     "text": [
      "Overwriting square.py\n"
     ]
    }
   ],
   "source": [
    "%%writefile square.py\n",
    "\n",
    "import math\n",
    "\n",
    "class Square:\n",
    "    def __init__(self, side):\n",
    "        \"\"\"\n",
    "        Initialize a Square instance with a specified side length.\n",
    "        Calculate and assign the area based on the given side length.\n",
    "        \"\"\"\n",
    "        self.side = side\n",
    "        self.area = side ** 2\n",
    "\n",
    "    def __str__(self):\n",
    "        \"\"\"\n",
    "        Return a string representation of the Square instance.\n",
    "        \"\"\"\n",
    "        return f\"Square({self.side})\"\n",
    "\n",
    "    def __eq__(self, other):\n",
    "        \"\"\"\n",
    "        Check if two Square instances are equal based on their areas.\n",
    "        \"\"\"\n",
    "        if isinstance(other, Square):\n",
    "            return self.area == other.area\n",
    "        return NotImplemented\n",
    "\n",
    "    def __ne__(self, other):\n",
    "        \"\"\"\n",
    "        Check if two Square instances are not equal based on their areas.\n",
    "        \"\"\"\n",
    "        if isinstance(other, Square):\n",
    "            return self.area != other.area\n",
    "        return NotImplemented\n",
    "\n",
    "    def __lt__(self, other):\n",
    "        \"\"\"\n",
    "        Check if the area of the current Square instance is less than the area of another Square instance.\n",
    "        \"\"\"\n",
    "        if isinstance(other, Square):\n",
    "            return self.area < other.area\n",
    "        return NotImplemented\n",
    "\n",
    "    def __le__(self, other):\n",
    "        \"\"\"\n",
    "        Check if the area of the current Square instance is less than or equal to the area of another Square instance.\n",
    "        \"\"\"\n",
    "        if isinstance(other, Square):\n",
    "            return self.area <= other.area\n",
    "        return NotImplemented\n",
    "\n",
    "    def __gt__(self, other):\n",
    "        \"\"\"\n",
    "        Check if the area of the current Square instance is greater than the area of another Square instance.\n",
    "        \"\"\"\n",
    "        if isinstance(other, Square):\n",
    "            return self.area > other.area\n",
    "        return NotImplemented\n",
    "\n",
    "    def __ge__(self, other):\n",
    "        \"\"\"\n",
    "        Check if the area of the current Square instance is greater than or equal to the area of another Square instance.\n",
    "        \"\"\"\n",
    "        if isinstance(other, Square):\n",
    "            return self.area >= other.area\n",
    "        return NotImplemented\n",
    "\n",
    "    def __add__(self, other):\n",
    "        \"\"\"\n",
    "        Add two Square instances to create a new Square with an area calculated based on the sum of their areas.\n",
    "        \"\"\"\n",
    "        if isinstance(other, Square):\n",
    "            return Square(math.sqrt(self.area + other.area))\n",
    "        elif isinstance(other, Circle):\n",
    "            return Circle(math.sqrt(self.area + other.area))\n",
    "        else:\n",
    "            raise TypeError(\"Objects must be instances of Square or Circle\")\n"
   ]
  },
  {
   "cell_type": "code",
   "execution_count": 28,
   "id": "c49d2a74",
   "metadata": {},
   "outputs": [],
   "source": [
    "from square import Square"
   ]
  },
  {
   "cell_type": "code",
   "execution_count": 29,
   "id": "99326525",
   "metadata": {},
   "outputs": [],
   "source": [
    "s1 = Square(2)\n",
    "s2 = Square(3)"
   ]
  },
  {
   "cell_type": "code",
   "execution_count": 30,
   "id": "19cfe8ac",
   "metadata": {},
   "outputs": [
    {
     "data": {
      "text/plain": [
       "False"
      ]
     },
     "execution_count": 30,
     "metadata": {},
     "output_type": "execute_result"
    }
   ],
   "source": [
    "s1.area == s2.area  # False"
   ]
  },
  {
   "cell_type": "code",
   "execution_count": 31,
   "id": "a9b7ba15",
   "metadata": {},
   "outputs": [
    {
     "data": {
      "text/plain": [
       "True"
      ]
     },
     "execution_count": 31,
     "metadata": {},
     "output_type": "execute_result"
    }
   ],
   "source": [
    "s1.area < s2.area  # True"
   ]
  },
  {
   "cell_type": "code",
   "execution_count": 32,
   "id": "85e73306",
   "metadata": {},
   "outputs": [
    {
     "data": {
      "text/plain": [
       "13"
      ]
     },
     "execution_count": 32,
     "metadata": {},
     "output_type": "execute_result"
    }
   ],
   "source": [
    "# Dodawanie kwadratów\n",
    "s3 = s1.area + s2.area\n",
    "s3  # Square(3.1622776601683795)  # Bok nowego kwadratu obliczony na podstawie sumy pól"
   ]
  },
  {
   "cell_type": "code",
   "execution_count": 33,
   "id": "f86d452a",
   "metadata": {},
   "outputs": [
    {
     "name": "stdout",
     "output_type": "stream",
     "text": [
      "4\n"
     ]
    }
   ],
   "source": [
    "print(s1.area)"
   ]
  },
  {
   "cell_type": "code",
   "execution_count": 34,
   "id": "c06d0b8a",
   "metadata": {},
   "outputs": [
    {
     "name": "stderr",
     "output_type": "stream",
     "text": [
      "INFO:root:Circle inialized with radius: 1\n"
     ]
    }
   ],
   "source": [
    "c = Circle(1)"
   ]
  },
  {
   "cell_type": "code",
   "execution_count": 35,
   "id": "c3dc3e52",
   "metadata": {},
   "outputs": [
    {
     "name": "stdout",
     "output_type": "stream",
     "text": [
      "\n",
      "        Circle properties:\n",
      "        radius: 1\n",
      "        diameter: 2\n",
      "        area: 3.141592653589793\n",
      "        \n"
     ]
    }
   ],
   "source": [
    "print(c)"
   ]
  },
  {
   "cell_type": "code",
   "execution_count": 36,
   "id": "6f525d07",
   "metadata": {},
   "outputs": [
    {
     "data": {
      "text/plain": [
       "7.140000000000001"
      ]
     },
     "execution_count": 36,
     "metadata": {},
     "output_type": "execute_result"
    }
   ],
   "source": [
    "# Dodawanie kwadratu i okręgu\n",
    "result = c.area + s1.area\n",
    "result  # Circle(2.064177772475912)  # Nowy okrąg o polu sumy pól"
   ]
  },
  {
   "cell_type": "code",
   "execution_count": 37,
   "id": "8c20010c",
   "metadata": {},
   "outputs": [
    {
     "data": {
      "text/plain": [
       "7.140000000000001"
      ]
     },
     "execution_count": 37,
     "metadata": {},
     "output_type": "execute_result"
    }
   ],
   "source": [
    "result = s1.area + c.area\n",
    "result  # Square(2.449489742783178)  # Nowy kwadrat o polu sumy pól"
   ]
  },
  {
   "cell_type": "code",
   "execution_count": 38,
   "id": "2e022f94",
   "metadata": {},
   "outputs": [
    {
     "data": {
      "text/plain": [
       "True"
      ]
     },
     "execution_count": 38,
     "metadata": {},
     "output_type": "execute_result"
    }
   ],
   "source": [
    "# Porównywanie\n",
    "s2.area > c.area  # True"
   ]
  },
  {
   "cell_type": "code",
   "execution_count": null,
   "id": "b9e23c5e",
   "metadata": {},
   "outputs": [],
   "source": []
  }
 ],
 "metadata": {
  "kernelspec": {
   "display_name": "Python 3",
   "language": "python",
   "name": "python3"
  },
  "language_info": {
   "codemirror_mode": {
    "name": "ipython",
    "version": 3
   },
   "file_extension": ".py",
   "mimetype": "text/x-python",
   "name": "python",
   "nbconvert_exporter": "python",
   "pygments_lexer": "ipython3",
   "version": "3.9.3"
  }
 },
 "nbformat": 4,
 "nbformat_minor": 5
}
