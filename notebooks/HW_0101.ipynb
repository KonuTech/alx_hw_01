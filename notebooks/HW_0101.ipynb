{
 "cells": [
  {
   "cell_type": "code",
   "execution_count": 1,
   "id": "547bb740",
   "metadata": {},
   "outputs": [],
   "source": [
    "import math\n",
    "from typing import Union\n",
    "import logging"
   ]
  },
  {
   "cell_type": "code",
   "execution_count": 2,
   "id": "af88a121",
   "metadata": {},
   "outputs": [],
   "source": [
    "logging.basicConfig(level=logging.INFO)"
   ]
  },
  {
   "cell_type": "code",
   "execution_count": 3,
   "id": "b6c4873d",
   "metadata": {},
   "outputs": [],
   "source": [
    "class Circle:\n",
    "    \"\"\"\n",
    "    This class represents a circle with attributes like radius, diameter, and area.\n",
    "    \"\"\"\n",
    "    def __init__(self, radius: float = 1.0) -> None:\n",
    "        \"\"\"\n",
    "        Initialize Circle with default radius of 1.0 if not provided.\n",
    "        Calculate diameter and area based on the given radius.\n",
    "        \"\"\"\n",
    "        self._radius: float = radius\n",
    "        self._diameter: float = radius * 2\n",
    "        self._area: float = math.pi * (radius ** 2)\n",
    "        \n",
    "        logging.info(f\"Circle inialized with radius: {self._radius}\")\n",
    "    \n",
    "    def __str__(self) -> str:\n",
    "        \"\"\"\n",
    "        Printing current radius.\n",
    "        \"\"\"\n",
    "        return f\"\"\"\n",
    "        Circle properties:\n",
    "        radius: {self._radius}\n",
    "        diameter: {self._diameter}\n",
    "        area: {self._area}\n",
    "        \"\"\"\n",
    "    \n",
    "    @property\n",
    "    def radius(self) -> float:\n",
    "        \"\"\"\n",
    "        Get the radius of the circle.\n",
    "        \"\"\"\n",
    "        return self._radius\n",
    "    \n",
    "    @radius.setter\n",
    "    def radius(self, new_radius: float) -> None:\n",
    "        \"\"\"\n",
    "        Set the radius of the circle.\n",
    "        Calculate diameter and area based on the new radius.\n",
    "        \"\"\"\n",
    "        if new_radius < 0:\n",
    "            raise ValueError(\"Radius cannot be negative\")\n",
    "        self._radius = new_radius\n",
    "        self._diameter = new_radius * 2\n",
    "        self._area = math.pi * (new_radius ** 2)\n",
    "        logging.info(f\"Radius set to: {self._radius}\")\n",
    "    \n",
    "    @property\n",
    "    def diameter(self) -> float:\n",
    "        \"\"\"\n",
    "        Get the diameter of the circle.\n",
    "        \"\"\"\n",
    "        return self._diameter\n",
    "    \n",
    "    @diameter.setter\n",
    "    def diameter(self, new_diameter: float) -> None:\n",
    "        \"\"\"\n",
    "        Set the diameter of the circle.\n",
    "        Calculater radius and area based on the new diamter.\n",
    "        \"\"\"\n",
    "        if new_diameter < 0:\n",
    "            raise ValueError(\"Diameter cannot be negative\")\n",
    "        self._diameter = new_diameter\n",
    "        self._radius = new_diameter / 2\n",
    "        self._area = math.pi * ((new_diameter / 2) ** 2)\n",
    "        logging.info(f\"Diameter set to: {self._diameter}\")\n",
    "    \n",
    "    @property\n",
    "    def area(self) -> float:\n",
    "        \"\"\"\n",
    "        Get the area of the circle.\n",
    "        \"\"\"\n",
    "        return round(self._area, 2)\n",
    "    \n",
    "    @area.setter\n",
    "    def area(self, new_area: float) -> None:\n",
    "        \"\"\"\n",
    "        Set the area of the circle.\n",
    "        Calculate radius and diameter based on the new area.\n",
    "        \"\"\"\n",
    "        if new_area < 0:\n",
    "            raise ValueError(\"Area cannot be negative\")\n",
    "        self._area = new_area\n",
    "        self._radius = math.sqrt(new_area / math.pi)\n",
    "        self._diameter = self._radius * 2\n",
    "        logging.info(f\"Area set to: {self._area}\")\n"
   ]
  },
  {
   "cell_type": "code",
   "execution_count": 4,
   "id": "4d0871bf",
   "metadata": {},
   "outputs": [
    {
     "name": "stderr",
     "output_type": "stream",
     "text": [
      "INFO:root:Circle inialized with radius: 1.0\n"
     ]
    }
   ],
   "source": [
    "c = Circle()"
   ]
  },
  {
   "cell_type": "code",
   "execution_count": 5,
   "id": "c2b716b5",
   "metadata": {},
   "outputs": [
    {
     "data": {
      "text/plain": [
       "'\\n        Circle properties:\\n        radius: 1.0\\n        diameter: 2.0\\n        area: 3.141592653589793\\n        '"
      ]
     },
     "execution_count": 5,
     "metadata": {},
     "output_type": "execute_result"
    }
   ],
   "source": [
    "str(c)"
   ]
  },
  {
   "cell_type": "code",
   "execution_count": 6,
   "id": "3e73c41b",
   "metadata": {},
   "outputs": [
    {
     "name": "stdout",
     "output_type": "stream",
     "text": [
      "\n",
      "        Circle properties:\n",
      "        radius: 1.0\n",
      "        diameter: 2.0\n",
      "        area: 3.141592653589793\n",
      "        \n"
     ]
    }
   ],
   "source": [
    "print(c)"
   ]
  },
  {
   "cell_type": "code",
   "execution_count": 7,
   "id": "eac285e2",
   "metadata": {},
   "outputs": [
    {
     "data": {
      "text/plain": [
       "(1.0, 2.0, 3.14)"
      ]
     },
     "execution_count": 7,
     "metadata": {},
     "output_type": "execute_result"
    }
   ],
   "source": [
    "c.radius, c.diameter, c.area"
   ]
  },
  {
   "cell_type": "code",
   "execution_count": 8,
   "id": "39eefc76",
   "metadata": {},
   "outputs": [
    {
     "name": "stderr",
     "output_type": "stream",
     "text": [
      "INFO:root:Circle inialized with radius: 2\n"
     ]
    }
   ],
   "source": [
    "c = Circle(2)"
   ]
  },
  {
   "cell_type": "code",
   "execution_count": 9,
   "id": "35fe10be",
   "metadata": {},
   "outputs": [
    {
     "name": "stdout",
     "output_type": "stream",
     "text": [
      "\n",
      "        Circle properties:\n",
      "        radius: 2\n",
      "        diameter: 4\n",
      "        area: 12.566370614359172\n",
      "        \n"
     ]
    }
   ],
   "source": [
    "print(c)"
   ]
  },
  {
   "cell_type": "code",
   "execution_count": 10,
   "id": "db9ec3fd",
   "metadata": {},
   "outputs": [
    {
     "data": {
      "text/plain": [
       "(2, 4, 12.57)"
      ]
     },
     "execution_count": 10,
     "metadata": {},
     "output_type": "execute_result"
    }
   ],
   "source": [
    "c.radius, c.diameter, c.area"
   ]
  },
  {
   "cell_type": "code",
   "execution_count": 11,
   "id": "b8ac2510",
   "metadata": {},
   "outputs": [
    {
     "name": "stdout",
     "output_type": "stream",
     "text": [
      "Variable   Type            Data/Info\n",
      "------------------------------------\n",
      "Circle     type            <class '__main__.Circle'>\n",
      "Union      _SpecialForm    typing.Union\n",
      "c          Circle          \\n        Circle properti<...>566370614359172\\n        \n",
      "logging    module          <module 'logging' from 'c<...>b\\\\logging\\\\__init__.py'>\n",
      "math       module          <module 'math' (built-in)>\n"
     ]
    }
   ],
   "source": [
    "%whos"
   ]
  },
  {
   "cell_type": "code",
   "execution_count": 12,
   "id": "ea48b1eb",
   "metadata": {},
   "outputs": [],
   "source": [
    "??Circle"
   ]
  },
  {
   "cell_type": "code",
   "execution_count": 13,
   "id": "8e87da74",
   "metadata": {},
   "outputs": [
    {
     "name": "stderr",
     "output_type": "stream",
     "text": [
      "INFO:root:Circle inialized with radius: 5.0\n"
     ]
    },
    {
     "name": "stdout",
     "output_type": "stream",
     "text": [
      "\n",
      "        Circle properties:\n",
      "        radius: 5.0\n",
      "        diameter: 10.0\n",
      "        area: 78.53981633974483\n",
      "        \n",
      "5.0\n",
      "10.0\n",
      "78.54\n"
     ]
    }
   ],
   "source": [
    "# Examples of usage:\n",
    "c = Circle(5.0)\n",
    "print(c)\n",
    "print(c.radius)\n",
    "print(c.diameter)\n",
    "print(c.area)"
   ]
  },
  {
   "cell_type": "code",
   "execution_count": 14,
   "id": "f2b18022",
   "metadata": {},
   "outputs": [
    {
     "name": "stderr",
     "output_type": "stream",
     "text": [
      "INFO:root:Circle inialized with radius: 1.0\n"
     ]
    },
    {
     "name": "stdout",
     "output_type": "stream",
     "text": [
      "1.0\n",
      "2.0\n"
     ]
    }
   ],
   "source": [
    "c = Circle()\n",
    "print(c.radius)\n",
    "print(c.diameter)"
   ]
  },
  {
   "cell_type": "code",
   "execution_count": 15,
   "id": "a35e17fa",
   "metadata": {},
   "outputs": [
    {
     "name": "stderr",
     "output_type": "stream",
     "text": [
      "INFO:root:Circle inialized with radius: 2.0\n",
      "INFO:root:Radius set to: 1.0\n"
     ]
    },
    {
     "name": "stdout",
     "output_type": "stream",
     "text": [
      "2.0\n",
      "3.14\n"
     ]
    }
   ],
   "source": [
    "c = Circle(2.0)\n",
    "c.radius = 1.0\n",
    "print(c.diameter)\n",
    "print(c.area)"
   ]
  },
  {
   "cell_type": "code",
   "execution_count": 16,
   "id": "567db6e4",
   "metadata": {},
   "outputs": [
    {
     "name": "stderr",
     "output_type": "stream",
     "text": [
      "INFO:root:Circle inialized with radius: 1.0\n",
      "INFO:root:Diameter set to: 4.0\n"
     ]
    },
    {
     "name": "stdout",
     "output_type": "stream",
     "text": [
      "2.0\n"
     ]
    }
   ],
   "source": [
    "c = Circle(1.0)\n",
    "c.diameter = 4.0\n",
    "print(c.radius)"
   ]
  },
  {
   "cell_type": "code",
   "execution_count": 17,
   "id": "1d37e396",
   "metadata": {},
   "outputs": [
    {
     "name": "stderr",
     "output_type": "stream",
     "text": [
      "INFO:root:Circle inialized with radius: 1.0\n",
      "INFO:root:Area set to: 78.53981633974483\n"
     ]
    },
    {
     "name": "stdout",
     "output_type": "stream",
     "text": [
      "5.0\n"
     ]
    }
   ],
   "source": [
    "c = Circle(1.0)\n",
    "c.area = math.pi * 5 ** 2\n",
    "print(c.radius)"
   ]
  },
  {
   "cell_type": "code",
   "execution_count": 18,
   "id": "6571b30f",
   "metadata": {},
   "outputs": [
    {
     "name": "stderr",
     "output_type": "stream",
     "text": [
      "INFO:root:Circle inialized with radius: 5.0\n"
     ]
    },
    {
     "name": "stdout",
     "output_type": "stream",
     "text": [
      "Radius cannot be negative\n"
     ]
    }
   ],
   "source": [
    "# Radius validation\n",
    "c = Circle(5.0)\n",
    "try:\n",
    "    c.radius = -2.0\n",
    "except ValueError as e:\n",
    "    print(e)"
   ]
  },
  {
   "cell_type": "code",
   "execution_count": null,
   "id": "972e67f3",
   "metadata": {},
   "outputs": [],
   "source": []
  }
 ],
 "metadata": {
  "kernelspec": {
   "display_name": "Python 3",
   "language": "python",
   "name": "python3"
  },
  "language_info": {
   "codemirror_mode": {
    "name": "ipython",
    "version": 3
   },
   "file_extension": ".py",
   "mimetype": "text/x-python",
   "name": "python",
   "nbconvert_exporter": "python",
   "pygments_lexer": "ipython3",
   "version": "3.9.3"
  }
 },
 "nbformat": 4,
 "nbformat_minor": 5
}
