{
 "cells": [
  {
   "cell_type": "code",
   "execution_count": 1,
   "id": "547bb740",
   "metadata": {},
   "outputs": [],
   "source": [
    "import math\n",
    "from typing import Union\n",
    "import logging"
   ]
  },
  {
   "cell_type": "code",
   "execution_count": 2,
   "id": "af88a121",
   "metadata": {},
   "outputs": [],
   "source": [
    "logging.basicConfig(level=logging.INFO)"
   ]
  },
  {
   "cell_type": "code",
   "execution_count": 3,
   "id": "723f84ef",
   "metadata": {},
   "outputs": [],
   "source": [
    "class Circle:\n",
    "    \"\"\"\n",
    "    This class represents a circle with attributes like radius, diameter, and area.\n",
    "    \"\"\"\n",
    "    def __init__(self, radius: float = 1.0) -> None:\n",
    "        \"\"\"\n",
    "        Initialize Circle with default radius of 1.0 if not provided.\n",
    "        Calculate diameter and area based on the given radius.\n",
    "        \"\"\"\n",
    "        self._radius: float = radius\n",
    "        self._diameter: float = radius * 2\n",
    "        self._area: float = math.pi * (radius ** 2)\n",
    "        \n",
    "        logging.info(f\"Circle inialized with radius: {self._radius}\")\n",
    "    \n",
    "    def __str__(self) -> str:\n",
    "        \"\"\"\n",
    "        Printing current radius.\n",
    "        \"\"\"\n",
    "        return f\"\"\"\n",
    "        Circle properties:\n",
    "        radius: {self._radius}\n",
    "        diameter: {self._diameter}\n",
    "        area: {self._area}\n",
    "        \"\"\"\n",
    "    \n",
    "    def __eq__(self, other):\n",
    "        \"\"\"\n",
    "        Check if two Circle instances are equal based on their radii.\n",
    "        \"\"\"\n",
    "        if isinstance(other, Circle):\n",
    "            return self.radius == other.radius\n",
    "        return NotImplemented\n",
    "    \n",
    "    def __ne__(self, other):\n",
    "        \"\"\"\n",
    "        Check if two Circle instances are not equal based on their radii.\n",
    "        \"\"\"\n",
    "        if isinstance(other, Circle):\n",
    "            return self.radius != other.radius\n",
    "        return NotImplemented\n",
    "    \n",
    "    def __lt__(self, other):\n",
    "        \"\"\"\n",
    "        Check if the radius of the current Circle instance is less than the radius of another Circle instance.\n",
    "        \"\"\"\n",
    "        if isinstance(other, Circle):\n",
    "            return self.radius < other.radius\n",
    "        return NotImplemented\n",
    "\n",
    "    def __le__(self, other):\n",
    "        \"\"\"\n",
    "        Check if the radius of the current Circle instance is less than or equal to the radius of another Circle instance.\n",
    "        \"\"\"\n",
    "        if isinstance(other, Circle):\n",
    "            return self.radius <= other.radius\n",
    "        return NotImplemented    \n",
    "\n",
    "    def __gt__(self, other):\n",
    "        \"\"\"\n",
    "        Check if the radius of the current Circle instance is greater than or equal to the radius of another Circle instance.\n",
    "        \"\"\"\n",
    "        if isinstance(other, Circle):\n",
    "            return self.radius > other.radius\n",
    "        return NotImplemented\n",
    "\n",
    "    def __ge__(self, other):\n",
    "        \"\"\"\n",
    "        Check if the radius of the current Circle instance is less than the radius of another Circle instance.\n",
    "        \"\"\"\n",
    "        if isinstance(other, Circle):\n",
    "            return self.radius >= other.radius\n",
    "        return NotImplemented\n",
    "    \n",
    "    def __add__(self, other):\n",
    "        \"\"\"\n",
    "        Add two Circle instances to create a new Circle with a radius calculated based on the sum of their areas.\n",
    "        \"\"\"\n",
    "        if isinstance(other, Circle):\n",
    "            return Circle(math.sqrt((self.radius ** 2) + (other.radius ** 2)))\n",
    "        return NotImplemented\n",
    "    \n",
    "    @property\n",
    "    def radius(self) -> float:\n",
    "        \"\"\"\n",
    "        Get the radius of the circle.\n",
    "        \"\"\"\n",
    "        return self._radius\n",
    "    \n",
    "    @radius.setter\n",
    "    def radius(self, new_radius: float) -> None:\n",
    "        \"\"\"\n",
    "        Set the radius of the circle.\n",
    "        Calculate diameter and area based on the new radius.\n",
    "        \"\"\"\n",
    "        if new_radius < 0:\n",
    "            raise ValueError(\"Radius cannot be negative\")\n",
    "        self._radius = new_radius\n",
    "        self._diameter = new_radius * 2\n",
    "        self._area = math.pi * (new_radius ** 2)\n",
    "        logging.info(f\"Radius set to: {self._radius}\")\n",
    "    \n",
    "    @property\n",
    "    def diameter(self) -> float:\n",
    "        \"\"\"\n",
    "        Get the diameter of the circle.\n",
    "        \"\"\"\n",
    "        return self._diameter\n",
    "    \n",
    "    @diameter.setter\n",
    "    def diameter(self, new_diameter: float) -> None:\n",
    "        \"\"\"\n",
    "        Set the diameter of the circle.\n",
    "        Calculater radius and area based on the new diamter.\n",
    "        \"\"\"\n",
    "        if new_diameter < 0:\n",
    "            raise ValueError(\"Diameter cannot be negative\")\n",
    "        self._diameter = new_diameter\n",
    "        self._radius = new_diameter / 2\n",
    "        self._area = math.pi * ((new_diameter / 2) ** 2)\n",
    "        logging.info(f\"Diameter set to: {self._diameter}\")\n",
    "    \n",
    "    @property\n",
    "    def area(self) -> float:\n",
    "        \"\"\"\n",
    "        Get the area of the circle.\n",
    "        \"\"\"\n",
    "        return round(self._area, 2)\n",
    "    \n",
    "    @area.setter\n",
    "    def area(self, new_area: float) -> None:\n",
    "        \"\"\"\n",
    "        Set the area of the circle.\n",
    "        Calculate radius and diameter based on the new area.\n",
    "        \"\"\"\n",
    "        if new_area < 0:\n",
    "            raise ValueError(\"Area cannot be negative\")\n",
    "        self._area = new_area\n",
    "        self._radius = math.sqrt(new_area / math.pi)\n",
    "        self._diameter = self._radius * 2\n",
    "        logging.info(f\"Area set to: {self._area}\")\n"
   ]
  },
  {
   "cell_type": "code",
   "execution_count": 4,
   "id": "295cde75",
   "metadata": {},
   "outputs": [
    {
     "name": "stderr",
     "output_type": "stream",
     "text": [
      "INFO:root:Circle inialized with radius: 1.0\n"
     ]
    }
   ],
   "source": [
    "c = Circle()"
   ]
  },
  {
   "cell_type": "code",
   "execution_count": 5,
   "id": "38d3329a",
   "metadata": {},
   "outputs": [
    {
     "data": {
      "text/plain": [
       "'\\n        Circle properties:\\n        radius: 1.0\\n        diameter: 2.0\\n        area: 3.141592653589793\\n        '"
      ]
     },
     "execution_count": 5,
     "metadata": {},
     "output_type": "execute_result"
    }
   ],
   "source": [
    "str(c)"
   ]
  },
  {
   "cell_type": "code",
   "execution_count": 6,
   "id": "d5dfbd0c",
   "metadata": {},
   "outputs": [
    {
     "name": "stdout",
     "output_type": "stream",
     "text": [
      "\n",
      "        Circle properties:\n",
      "        radius: 1.0\n",
      "        diameter: 2.0\n",
      "        area: 3.141592653589793\n",
      "        \n"
     ]
    }
   ],
   "source": [
    "print(c)"
   ]
  },
  {
   "cell_type": "code",
   "execution_count": 7,
   "id": "93fcc3e1",
   "metadata": {},
   "outputs": [
    {
     "data": {
      "text/plain": [
       "(1.0, 2.0, 3.14)"
      ]
     },
     "execution_count": 7,
     "metadata": {},
     "output_type": "execute_result"
    }
   ],
   "source": [
    "c.radius, c.diameter, c.area"
   ]
  },
  {
   "cell_type": "code",
   "execution_count": 8,
   "id": "3702ab6b",
   "metadata": {},
   "outputs": [
    {
     "name": "stderr",
     "output_type": "stream",
     "text": [
      "INFO:root:Circle inialized with radius: 2\n"
     ]
    }
   ],
   "source": [
    "c = Circle(2)"
   ]
  },
  {
   "cell_type": "code",
   "execution_count": 9,
   "id": "2ff49f6f",
   "metadata": {},
   "outputs": [
    {
     "name": "stdout",
     "output_type": "stream",
     "text": [
      "\n",
      "        Circle properties:\n",
      "        radius: 2\n",
      "        diameter: 4\n",
      "        area: 12.566370614359172\n",
      "        \n"
     ]
    }
   ],
   "source": [
    "print(c)"
   ]
  },
  {
   "cell_type": "code",
   "execution_count": 10,
   "id": "a04ebbf1",
   "metadata": {},
   "outputs": [
    {
     "data": {
      "text/plain": [
       "(2, 4, 12.57)"
      ]
     },
     "execution_count": 10,
     "metadata": {},
     "output_type": "execute_result"
    }
   ],
   "source": [
    "c.radius, c.diameter, c.area"
   ]
  },
  {
   "cell_type": "code",
   "execution_count": 11,
   "id": "73c30086",
   "metadata": {},
   "outputs": [
    {
     "name": "stdout",
     "output_type": "stream",
     "text": [
      "Variable   Type            Data/Info\n",
      "------------------------------------\n",
      "Circle     type            <class '__main__.Circle'>\n",
      "Union      _SpecialForm    typing.Union\n",
      "c          Circle          \\n        Circle properti<...>566370614359172\\n        \n",
      "logging    module          <module 'logging' from 'c<...>b\\\\logging\\\\__init__.py'>\n",
      "math       module          <module 'math' (built-in)>\n"
     ]
    }
   ],
   "source": [
    "%whos"
   ]
  },
  {
   "cell_type": "markdown",
   "id": "b864cb0c",
   "metadata": {},
   "source": [
    "### Ex. 1"
   ]
  },
  {
   "cell_type": "code",
   "execution_count": 12,
   "id": "b6946ab2",
   "metadata": {},
   "outputs": [],
   "source": [
    "??Circle"
   ]
  },
  {
   "cell_type": "code",
   "execution_count": 13,
   "id": "c9f67977",
   "metadata": {},
   "outputs": [
    {
     "name": "stderr",
     "output_type": "stream",
     "text": [
      "INFO:root:Circle inialized with radius: 5.0\n"
     ]
    },
    {
     "name": "stdout",
     "output_type": "stream",
     "text": [
      "\n",
      "        Circle properties:\n",
      "        radius: 5.0\n",
      "        diameter: 10.0\n",
      "        area: 78.53981633974483\n",
      "        \n",
      "5.0\n",
      "10.0\n",
      "78.54\n"
     ]
    }
   ],
   "source": [
    "# Examples of usage:\n",
    "c = Circle(5.0)\n",
    "print(c)\n",
    "print(c.radius)\n",
    "print(c.diameter)\n",
    "print(c.area)"
   ]
  },
  {
   "cell_type": "code",
   "execution_count": 14,
   "id": "38dd30ab",
   "metadata": {},
   "outputs": [
    {
     "name": "stderr",
     "output_type": "stream",
     "text": [
      "INFO:root:Circle inialized with radius: 1.0\n"
     ]
    },
    {
     "name": "stdout",
     "output_type": "stream",
     "text": [
      "1.0\n",
      "2.0\n"
     ]
    }
   ],
   "source": [
    "c = Circle()\n",
    "print(c.radius)\n",
    "print(c.diameter)"
   ]
  },
  {
   "cell_type": "code",
   "execution_count": 15,
   "id": "60cbc180",
   "metadata": {},
   "outputs": [
    {
     "name": "stderr",
     "output_type": "stream",
     "text": [
      "INFO:root:Circle inialized with radius: 2.0\n",
      "INFO:root:Radius set to: 1.0\n"
     ]
    },
    {
     "name": "stdout",
     "output_type": "stream",
     "text": [
      "2.0\n",
      "3.14\n"
     ]
    }
   ],
   "source": [
    "c = Circle(2.0)\n",
    "c.radius = 1.0\n",
    "print(c.diameter)\n",
    "print(c.area)"
   ]
  },
  {
   "cell_type": "code",
   "execution_count": 16,
   "id": "e0effbae",
   "metadata": {},
   "outputs": [
    {
     "name": "stderr",
     "output_type": "stream",
     "text": [
      "INFO:root:Circle inialized with radius: 1.0\n",
      "INFO:root:Diameter set to: 4.0\n"
     ]
    },
    {
     "name": "stdout",
     "output_type": "stream",
     "text": [
      "2.0\n"
     ]
    }
   ],
   "source": [
    "c = Circle(1.0)\n",
    "c.diameter = 4.0\n",
    "print(c.radius)"
   ]
  },
  {
   "cell_type": "code",
   "execution_count": 17,
   "id": "2230cc32",
   "metadata": {},
   "outputs": [
    {
     "name": "stderr",
     "output_type": "stream",
     "text": [
      "INFO:root:Circle inialized with radius: 1.0\n",
      "INFO:root:Area set to: 78.53981633974483\n"
     ]
    },
    {
     "name": "stdout",
     "output_type": "stream",
     "text": [
      "5.0\n"
     ]
    }
   ],
   "source": [
    "c = Circle(1.0)\n",
    "c.area = math.pi * 5 ** 2\n",
    "print(c.radius)"
   ]
  },
  {
   "cell_type": "code",
   "execution_count": 18,
   "id": "66f15a7e",
   "metadata": {},
   "outputs": [
    {
     "name": "stderr",
     "output_type": "stream",
     "text": [
      "INFO:root:Circle inialized with radius: 5.0\n"
     ]
    },
    {
     "name": "stdout",
     "output_type": "stream",
     "text": [
      "Radius cannot be negative\n"
     ]
    }
   ],
   "source": [
    "c = Circle(5.0)\n",
    "try:\n",
    "    c.radius = -2.0\n",
    "except ValueError as e:\n",
    "    print(e)"
   ]
  },
  {
   "cell_type": "markdown",
   "id": "3e515589",
   "metadata": {},
   "source": [
    "### Ex. 2"
   ]
  },
  {
   "cell_type": "code",
   "execution_count": 19,
   "id": "5e4c8606",
   "metadata": {},
   "outputs": [
    {
     "name": "stderr",
     "output_type": "stream",
     "text": [
      "INFO:root:Circle inialized with radius: 1.0\n",
      "INFO:root:Circle inialized with radius: 2\n"
     ]
    }
   ],
   "source": [
    "c1 = Circle()\n",
    "c2 = Circle(2)"
   ]
  },
  {
   "cell_type": "code",
   "execution_count": 20,
   "id": "17b50fad",
   "metadata": {},
   "outputs": [
    {
     "name": "stdout",
     "output_type": "stream",
     "text": [
      "False\n"
     ]
    }
   ],
   "source": [
    "print(c1 == c2)  # False"
   ]
  },
  {
   "cell_type": "code",
   "execution_count": 21,
   "id": "90c1b5c4",
   "metadata": {},
   "outputs": [
    {
     "name": "stdout",
     "output_type": "stream",
     "text": [
      "True\n"
     ]
    }
   ],
   "source": [
    "print(c1 != c2)  # True"
   ]
  },
  {
   "cell_type": "code",
   "execution_count": 22,
   "id": "cc36d51e",
   "metadata": {},
   "outputs": [
    {
     "name": "stdout",
     "output_type": "stream",
     "text": [
      "False\n"
     ]
    }
   ],
   "source": [
    "print(c1 > c2)   # False"
   ]
  },
  {
   "cell_type": "code",
   "execution_count": 23,
   "id": "76e54073",
   "metadata": {},
   "outputs": [
    {
     "name": "stdout",
     "output_type": "stream",
     "text": [
      "True\n"
     ]
    }
   ],
   "source": [
    "print(c1 <= c2)  # True"
   ]
  },
  {
   "cell_type": "code",
   "execution_count": 24,
   "id": "93516b02",
   "metadata": {},
   "outputs": [
    {
     "name": "stderr",
     "output_type": "stream",
     "text": [
      "INFO:root:Circle inialized with radius: 2.23606797749979\n"
     ]
    },
    {
     "name": "stdout",
     "output_type": "stream",
     "text": [
      "\n",
      "        Circle properties:\n",
      "        radius: 2.23606797749979\n",
      "        diameter: 4.47213595499958\n",
      "        area: 15.70796326794897\n",
      "        \n"
     ]
    }
   ],
   "source": [
    "c3 = c1 + c2\n",
    "print(c3)  # Circle(2.23606797749979)"
   ]
  },
  {
   "cell_type": "code",
   "execution_count": null,
   "id": "b034010d",
   "metadata": {},
   "outputs": [],
   "source": []
  }
 ],
 "metadata": {
  "kernelspec": {
   "display_name": "Python 3",
   "language": "python",
   "name": "python3"
  },
  "language_info": {
   "codemirror_mode": {
    "name": "ipython",
    "version": 3
   },
   "file_extension": ".py",
   "mimetype": "text/x-python",
   "name": "python",
   "nbconvert_exporter": "python",
   "pygments_lexer": "ipython3",
   "version": "3.9.3"
  }
 },
 "nbformat": 4,
 "nbformat_minor": 5
}
